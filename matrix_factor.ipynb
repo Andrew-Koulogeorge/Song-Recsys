{
 "cells": [
  {
   "cell_type": "markdown",
   "metadata": {},
   "source": [
    "# Experimenting with more powerful model then neighborhood methods\n",
    "- Applying matrix factoization method taylored for implicit feedback where we only observe positive feedback and infer from this behavior future prefferences of the user. Since missing entries of the rating matrix do not imply that the user does not like a given item, we increase the amount of importance given to the positive ratings compared to the missing ratings. \n",
    "\n",
    "- Using the \"implict\" python software package which assumes that data is stored in a scipy spare matrix"
   ]
  },
  {
   "cell_type": "code",
   "execution_count": 1,
   "metadata": {},
   "outputs": [
    {
     "name": "stderr",
     "output_type": "stream",
     "text": [
      "/Users/andrewkoulogeorge/miniforge3/envs/spotify/lib/python3.13/site-packages/tqdm/auto.py:21: TqdmWarning: IProgress not found. Please update jupyter and ipywidgets. See https://ipywidgets.readthedocs.io/en/stable/user_install.html\n",
      "  from .autonotebook import tqdm as notebook_tqdm\n"
     ]
    }
   ],
   "source": [
    "import numpy as np\n",
    "import pandas as pd \n",
    "from scipy import sparse\n",
    "import itertools\n",
    "from util import parse_playlist_dataset, create_validation_data, R_precision, plot_percentage_distribution\n",
    "from implicit.als import AlternatingLeastSquares"
   ]
  },
  {
   "cell_type": "code",
   "execution_count": 2,
   "metadata": {},
   "outputs": [],
   "source": [
    "import psutil\n",
    "import os\n",
    "\n",
    "def check_mem():\n",
    "    # Get current process\n",
    "    process = psutil.Process(os.getpid())\n",
    "\n",
    "    # Get memory info in MB\n",
    "    memory_info = process.memory_info().rss / 1024 / 1024\n",
    "    print(f\"Current memory usage: {memory_info:.2f} MB\")"
   ]
  },
  {
   "cell_type": "code",
   "execution_count": 3,
   "metadata": {},
   "outputs": [],
   "source": [
    "# DEFINE DATA PARAMETERS\n",
    "VAL_START = 100\n",
    "VAL_END = 110\n",
    "TRAIN_START = 10\n",
    "TRAIN_END = 50\n",
    "TRAINING_SIZE = (TRAIN_END - TRAIN_START) * 1000"
   ]
  },
  {
   "cell_type": "code",
   "execution_count": 4,
   "metadata": {},
   "outputs": [
    {
     "name": "stdout",
     "output_type": "stream",
     "text": [
      "Number of files being extracted: 40\n",
      "['spotify_train_set/data/mpd.slice.107000-107999.json', 'spotify_train_set/data/mpd.slice.108000-108999.json', 'spotify_train_set/data/mpd.slice.109000-109999.json', 'spotify_train_set/data/mpd.slice.11000-11999.json', 'spotify_train_set/data/mpd.slice.110000-110999.json', 'spotify_train_set/data/mpd.slice.111000-111999.json', 'spotify_train_set/data/mpd.slice.112000-112999.json', 'spotify_train_set/data/mpd.slice.113000-113999.json', 'spotify_train_set/data/mpd.slice.114000-114999.json', 'spotify_train_set/data/mpd.slice.115000-115999.json', 'spotify_train_set/data/mpd.slice.116000-116999.json', 'spotify_train_set/data/mpd.slice.117000-117999.json', 'spotify_train_set/data/mpd.slice.118000-118999.json', 'spotify_train_set/data/mpd.slice.119000-119999.json', 'spotify_train_set/data/mpd.slice.12000-12999.json', 'spotify_train_set/data/mpd.slice.120000-120999.json', 'spotify_train_set/data/mpd.slice.121000-121999.json', 'spotify_train_set/data/mpd.slice.122000-122999.json', 'spotify_train_set/data/mpd.slice.123000-123999.json', 'spotify_train_set/data/mpd.slice.124000-124999.json', 'spotify_train_set/data/mpd.slice.125000-125999.json', 'spotify_train_set/data/mpd.slice.126000-126999.json', 'spotify_train_set/data/mpd.slice.127000-127999.json', 'spotify_train_set/data/mpd.slice.128000-128999.json', 'spotify_train_set/data/mpd.slice.129000-129999.json', 'spotify_train_set/data/mpd.slice.13000-13999.json', 'spotify_train_set/data/mpd.slice.130000-130999.json', 'spotify_train_set/data/mpd.slice.131000-131999.json', 'spotify_train_set/data/mpd.slice.132000-132999.json', 'spotify_train_set/data/mpd.slice.133000-133999.json', 'spotify_train_set/data/mpd.slice.134000-134999.json', 'spotify_train_set/data/mpd.slice.135000-135999.json', 'spotify_train_set/data/mpd.slice.136000-136999.json', 'spotify_train_set/data/mpd.slice.137000-137999.json', 'spotify_train_set/data/mpd.slice.138000-138999.json', 'spotify_train_set/data/mpd.slice.139000-139999.json', 'spotify_train_set/data/mpd.slice.14000-14999.json', 'spotify_train_set/data/mpd.slice.140000-140999.json', 'spotify_train_set/data/mpd.slice.141000-141999.json', 'spotify_train_set/data/mpd.slice.142000-142999.json']\n",
      "Number unique tracks in training data: 401681\n",
      "Number of training playlists: 40000\n",
      "Number of training songs: 401681\n"
     ]
    }
   ],
   "source": [
    "# DEFINE GLOBAL MAPPING FOR TRAINING INDEX (USED BY ALL FUNCTIONS)\n",
    "df_song_playlist, df_tracks, _ = parse_playlist_dataset(TRAIN_START, TRAIN_END)\n",
    "# _, val_tracks, _ = parse_playlist_dataset(VAL_START, VAL_END)\n",
    "\n",
    "# lookup table to extract track names from predictions\n",
    "track_uri_to_name = dict(zip(df_tracks[\"track_uri\"], df_tracks[\"track_name\"]))\n",
    "\n",
    "# define mapping to unique, continuous set of playlist and track ids for the training dataset\n",
    "pid_to_npid = {x:i for i, x in zip(range(len(set(df_song_playlist[\"pid\"]))), set(df_song_playlist[\"pid\"]))}\n",
    "turi_to_tid = {x:i for i, x in zip(range(len(set(df_song_playlist[\"track_uri\"]))), set(df_song_playlist[\"track_uri\"]))}\n",
    "tid_to_turi = {i:x for i, x in zip(range(len(set(df_song_playlist[\"track_uri\"]))), set(df_song_playlist[\"track_uri\"]))}\n",
    "\n",
    "# total number of unique songs in this holdout set\n",
    "print(f\"Number unique tracks in training data: {len(set(df_tracks[\"track_uri\"]))}\")\n",
    "# print(f\"Number unique tracks in validation data: {len(set(val_tracks[\"track_uri\"]))}\")\n",
    "# print(f\"Number of unique tracks in that occur in both: {len(set(df_tracks[\"track_uri\"]).intersection(set(val_tracks[\"track_uri\"])))}\")\n",
    "\n",
    "# apply operations on training dataframe\n",
    "df_song_playlist[\"pid\"] = df_song_playlist[\"pid\"].apply(lambda x: pid_to_npid[x])\n",
    "df_song_playlist[\"track_uri\"] = df_song_playlist[\"track_uri\"].apply(lambda x: turi_to_tid[x])\n",
    "\n",
    "df_song_playlist = df_song_playlist.rename(columns={\"track_uri\":\"tid\"})\n",
    "df_song_playlist = df_song_playlist.drop(\"pos\", axis=1)\n",
    "\n",
    "print(f\"Number of training playlists: {df_song_playlist[\"pid\"].nunique()}\")\n",
    "print(f\"Number of training songs: {df_song_playlist[\"tid\"].nunique()}\")\n"
   ]
  },
  {
   "cell_type": "code",
   "execution_count": 5,
   "metadata": {},
   "outputs": [
    {
     "name": "stdout",
     "output_type": "stream",
     "text": [
      "Current memory usage: 1815.78 MB\n"
     ]
    }
   ],
   "source": [
    "check_mem()"
   ]
  },
  {
   "cell_type": "code",
   "execution_count": 6,
   "metadata": {},
   "outputs": [],
   "source": [
    "# def process_data(df_song_playlist):\n",
    "#     # apply operations on training dataframe\n",
    "#     df_song_playlist[\"pid\"] = df_song_playlist[\"pid\"].apply(lambda x: pid_to_npid[x])\n",
    "#     df_song_playlist[\"track_uri\"] = df_song_playlist[\"track_uri\"].apply(lambda x: turi_to_tid[x])\n",
    "\n",
    "#     df_song_playlist = df_song_playlist.rename(columns={\"track_uri\":\"tid\"})\n",
    "#     df_song_playlist = df_song_playlist.drop(\"pos\", axis=1)\n",
    "\n",
    "#     print(f\"Number of training playlists: {df_song_playlist[\"pid\"].nunique()}\")\n",
    "#     print(f\"Number of training songs: {df_song_playlist[\"tid\"].nunique()}\")\n",
    "    # return df_song_playlist\n",
    "\n",
    "\n",
    "# df_song_playlist = process_data(df_song_playlist)\n",
    "\n",
    "\n",
    "# construct sparse representation of (pid,tid) pairs from dataframe for matrix factorization algo\n",
    "def construct_sparse_training_data(df_song_playlist):\n",
    "    data = np.ones(len(df_song_playlist)) # marking a 1 in our sparse matrix whenever there is an interaction\n",
    "    row_idx = df_song_playlist[\"pid\"].to_numpy()\n",
    "    col_idx = df_song_playlist[\"tid\"].to_numpy()\n",
    "    shape = (len(pid_to_npid), len(turi_to_tid))\n",
    "\n",
    "    # make the sparse numpy matrix\n",
    "    sparse_data = sparse.csr_matrix((data, (row_idx, col_idx)), shape=shape)\n",
    "    return sparse_data\n",
    "\n",
    "def train_matrix_factor_model(sparse_data, factors=64, regularization=0.05, alpha=2.0, iterations=15):\n",
    "    model = AlternatingLeastSquares(factors=factors, regularization=regularization, alpha=alpha,iterations=iterations) # default HPs\n",
    "    model.fit(sparse_data) # this model should have a 64 dimentional vector for each playlist and track\n",
    "    return model\n",
    "\n",
    "'''\n",
    "Function to transform the validation dataset to use training datset mappings\n",
    "If there exists a song in the validation dataset that was not seen during training, we done consider it\n",
    "'''\n",
    "def transform_val_data(val_data):\n",
    "    new_val_data = {}\n",
    "\n",
    "    # define a function that maps from pid, track_uri into positive integers. Apply to columns, drop pos\n",
    "    turi_to_tid_f = lambda x: turi_to_tid[x] if x in turi_to_tid else -1 \n",
    "\n",
    "    # update track id mapping to what is used by the ALS package\n",
    "    # if there is a track in the validation dataset \n",
    "    for old_pid, old_songs in val_data.items():\n",
    "        new_val_data[old_pid] = {\"seen\":list(map(turi_to_tid_f, old_songs[\"seen\"])), \n",
    "                                        \"heldout\":list(map(turi_to_tid_f, old_songs[\"heldout\"]))}    \n",
    "    return new_val_data"
   ]
  },
  {
   "cell_type": "code",
   "execution_count": 7,
   "metadata": {},
   "outputs": [],
   "source": [
    "def evaluate_model_vectorized(model, new_val_data):\n",
    "    \"\"\"Vectorized evaluation of model performance on validation dataset\"\"\"\n",
    "    # Prepare data structures\n",
    "    valid_playlists = []\n",
    "    seen_tracks_list = []\n",
    "    unseen_tracks_list = []\n",
    "    k_values = []\n",
    "    \n",
    "    # Pre-process playlists\n",
    "    for pid_val, data in new_val_data.items():\n",
    "        tracks_seen = set(data[\"seen\"]) - {-1}\n",
    "        tracks_unseen = set(data[\"heldout\"]) - {-1}\n",
    "        if len(tracks_unseen) > 0:\n",
    "            valid_playlists.append(pid_val)\n",
    "            seen_tracks_list.append(tracks_seen)\n",
    "            unseen_tracks_list.append(tracks_unseen)\n",
    "            k_values.append(len(tracks_unseen))\n",
    "    \n",
    "    if not valid_playlists:\n",
    "        return 0\n",
    "    \n",
    "    # Free memory\n",
    "    del new_val_data\n",
    "    check_mem()\n",
    "    # Initialize arrays for results\n",
    "    n_playlists = len(valid_playlists)\n",
    "    r_precs = np.zeros(n_playlists)\n",
    "    matches = np.zeros(n_playlists, dtype=int)\n",
    "    total_preds = sum(k_values)\n",
    "    \n",
    "    # Get the maximum valid track ID\n",
    "    n_items = model.item_factors.shape[0]\n",
    "    \n",
    "    # Process in batches to reduce memory usage\n",
    "    batch_size = 1000  # Adjust based on available memory\n",
    "    for batch_start in range(0, n_playlists, batch_size):\n",
    "        check_mem()\n",
    "        batch_end = min(batch_start + batch_size, n_playlists)\n",
    "        \n",
    "        # Compute user representations for this batch\n",
    "        batch_user_reps = np.zeros((batch_end - batch_start, model.factors))\n",
    "        for i in range(batch_start, batch_end):\n",
    "            tracks_seen = seen_tracks_list[i - batch_start]\n",
    "            if tracks_seen:  # Skip empty sets\n",
    "                # Filter out invalid track IDs\n",
    "                valid_tracks = [t for t in tracks_seen if 0 <= t < n_items]\n",
    "                if valid_tracks:  # Only proceed if there are valid tracks\n",
    "                    batch_user_reps[i - batch_start] = np.sum(model.item_factors[valid_tracks], axis=0)\n",
    "        \n",
    "        # Compute similarities for this batch\n",
    "        batch_similarities = batch_user_reps @ model.item_factors.T\n",
    "        \n",
    "        # Process recommendations for this batch\n",
    "        for i in range(batch_start, batch_end):\n",
    "            batch_idx = i - batch_start\n",
    "            sim = batch_similarities[batch_idx].copy()  # Create a copy to avoid modifying original\n",
    "            \n",
    "            # Mask out seen tracks - only valid indices\n",
    "            for track_id in seen_tracks_list[batch_idx]:\n",
    "                if 0 <= track_id < n_items:  # Check if index is valid\n",
    "                    sim[track_id] = float('-inf')\n",
    "            \n",
    "            # Get top-k recommendations\n",
    "            k = k_values[batch_idx]\n",
    "            song_recs = np.argsort(-sim)[:k]\n",
    "            \n",
    "            # Compute precision\n",
    "            try:\n",
    "                r_prec, match = R_precision(set(song_recs), unseen_tracks_list[batch_idx])\n",
    "                r_precs[i] = r_prec\n",
    "                matches[i] = match\n",
    "            except Exception as e:\n",
    "                print(f\"Error computing R_precision for playlist {i}: {e}\")\n",
    "        \n",
    "        # Free memory after processing each batch\n",
    "        del batch_user_reps\n",
    "        del batch_similarities\n",
    "    \n",
    "    # Compute summary statistics\n",
    "    total_matches = np.sum(matches)\n",
    "    percentage_hit = total_matches / total_preds if total_preds > 0 else 0\n",
    "    max_r_prec = np.max(r_precs) if len(r_precs) > 0 else 0\n",
    "    \n",
    "    print(f\"Percentage Hit: {percentage_hit}\")\n",
    "    print(f\"Max r_prec on a given playlist: {max_r_prec}\")\n",
    "    \n",
    "    # Only plot if there are valid scores\n",
    "    scores_np = r_precs * 100\n",
    "    try:\n",
    "        plot_percentage_distribution(scores_np)\n",
    "    except Exception as e:\n",
    "        print(f\"Warning: Unable to plot distribution: {e}\")\n",
    "    \n",
    "    return percentage_hit"
   ]
  },
  {
   "cell_type": "code",
   "execution_count": 8,
   "metadata": {},
   "outputs": [],
   "source": [
    "!export OPENBLAS_NUM_THREADS=1"
   ]
  },
  {
   "cell_type": "code",
   "execution_count": 9,
   "metadata": {},
   "outputs": [
    {
     "name": "stdout",
     "output_type": "stream",
     "text": [
      "Current memory usage: 1815.67 MB\n"
     ]
    }
   ],
   "source": [
    "check_mem()"
   ]
  },
  {
   "cell_type": "code",
   "execution_count": 10,
   "metadata": {},
   "outputs": [
    {
     "name": "stdout",
     "output_type": "stream",
     "text": [
      "Current memory usage: 1836.27 MB\n",
      "Hyper parameter values (factor,reg,alpha,iters): (150, 1, 40, 40)\n"
     ]
    },
    {
     "name": "stderr",
     "output_type": "stream",
     "text": [
      "/Users/andrewkoulogeorge/miniforge3/envs/spotify/lib/python3.13/site-packages/implicit/cpu/als.py:95: RuntimeWarning: OpenBLAS is configured to use 12 threads. It is highly recommended to disable its internal threadpool by setting the environment variable 'OPENBLAS_NUM_THREADS=1' or by calling 'threadpoolctl.threadpool_limits(1, \"blas\")'. Having OpenBLAS use a threadpool can lead to severe performance issues here.\n",
      "  check_blas_config()\n",
      "100%|██████████| 40/40 [04:53<00:00,  7.34s/it]\n"
     ]
    },
    {
     "name": "stdout",
     "output_type": "stream",
     "text": [
      "Current memory usage: 1567.27 MB\n",
      "Number of files being extracted: 10\n",
      "['spotify_train_set/data/mpd.slice.189000-189999.json', 'spotify_train_set/data/mpd.slice.19000-19999.json', 'spotify_train_set/data/mpd.slice.190000-190999.json', 'spotify_train_set/data/mpd.slice.191000-191999.json', 'spotify_train_set/data/mpd.slice.192000-192999.json', 'spotify_train_set/data/mpd.slice.193000-193999.json', 'spotify_train_set/data/mpd.slice.194000-194999.json', 'spotify_train_set/data/mpd.slice.195000-195999.json', 'spotify_train_set/data/mpd.slice.196000-196999.json', 'spotify_train_set/data/mpd.slice.197000-197999.json']\n",
      "Current memory usage: 1540.72 MB\n",
      "Current memory usage: 1562.50 MB\n",
      "Current memory usage: 1562.50 MB\n",
      "Current memory usage: 1330.02 MB\n",
      "Current memory usage: 1342.36 MB\n",
      "Current memory usage: 1362.78 MB\n",
      "Current memory usage: 1366.77 MB\n",
      "Current memory usage: 1376.02 MB\n",
      "Current memory usage: 1376.02 MB\n",
      "Current memory usage: 1384.28 MB\n",
      "Current memory usage: 1384.31 MB\n",
      "Current memory usage: 1384.31 MB\n",
      "Current memory usage: 1393.05 MB\n",
      "Current memory usage: 1393.05 MB\n",
      "Current memory usage: 1393.05 MB\n",
      "Current memory usage: 1393.06 MB\n",
      "Current memory usage: 1393.09 MB\n",
      "Current memory usage: 1393.09 MB\n",
      "Current memory usage: 1393.09 MB\n",
      "Current memory usage: 1393.09 MB\n",
      "Current memory usage: 1393.28 MB\n",
      "Current memory usage: 1393.19 MB\n",
      "Current memory usage: 1393.19 MB\n",
      "Current memory usage: 1395.12 MB\n",
      "Current memory usage: 1395.22 MB\n",
      "Current memory usage: 1229.64 MB\n",
      "Current memory usage: 1232.44 MB\n",
      "Current memory usage: 1232.44 MB\n",
      "Current memory usage: 1232.83 MB\n",
      "Current memory usage: 1232.84 MB\n",
      "Current memory usage: 1196.31 MB\n",
      "Current memory usage: 1211.14 MB\n",
      "Current memory usage: 1211.14 MB\n",
      "Current memory usage: 1211.14 MB\n",
      "Current memory usage: 1211.17 MB\n",
      "Current memory usage: 1211.17 MB\n",
      "Current memory usage: 1211.30 MB\n",
      "Current memory usage: 1211.48 MB\n",
      "Current memory usage: 1211.48 MB\n",
      "Current memory usage: 1211.61 MB\n",
      "Current memory usage: 1211.61 MB\n",
      "Current memory usage: 1211.61 MB\n",
      "Current memory usage: 1211.61 MB\n",
      "Current memory usage: 1214.67 MB\n",
      "Current memory usage: 1214.39 MB\n",
      "Current memory usage: 1212.73 MB\n",
      "Current memory usage: 1208.53 MB\n",
      "Current memory usage: 1210.58 MB\n",
      "Current memory usage: 1210.58 MB\n",
      "Current memory usage: 1213.58 MB\n",
      "Current memory usage: 1214.78 MB\n",
      "Current memory usage: 1214.78 MB\n",
      "Current memory usage: 1214.78 MB\n",
      "Current memory usage: 1214.78 MB\n",
      "Current memory usage: 1214.78 MB\n",
      "Current memory usage: 1214.78 MB\n",
      "Current memory usage: 1214.78 MB\n",
      "Current memory usage: 1214.78 MB\n",
      "Current memory usage: 1214.78 MB\n",
      "Current memory usage: 1214.78 MB\n",
      "Current memory usage: 1214.78 MB\n",
      "Current memory usage: 1214.78 MB\n",
      "Current memory usage: 1214.78 MB\n",
      "Current memory usage: 1214.97 MB\n",
      "Current memory usage: 1214.97 MB\n",
      "Current memory usage: 1214.97 MB\n",
      "Current memory usage: 1215.09 MB\n",
      "Current memory usage: 1215.09 MB\n",
      "Current memory usage: 1215.09 MB\n",
      "Current memory usage: 1215.09 MB\n",
      "Current memory usage: 1215.19 MB\n",
      "Current memory usage: 1215.19 MB\n",
      "Current memory usage: 1215.19 MB\n",
      "Current memory usage: 1215.19 MB\n",
      "Current memory usage: 1211.91 MB\n",
      "Current memory usage: 1211.91 MB\n",
      "Current memory usage: 1211.91 MB\n",
      "Current memory usage: 1211.91 MB\n",
      "Current memory usage: 1211.91 MB\n",
      "Current memory usage: 1211.91 MB\n",
      "Current memory usage: 1211.91 MB\n",
      "Current memory usage: 1215.30 MB\n",
      "Current memory usage: 1218.41 MB\n",
      "Current memory usage: 1218.41 MB\n",
      "Current memory usage: 1218.41 MB\n",
      "Current memory usage: 1218.41 MB\n",
      "Current memory usage: 1218.59 MB\n",
      "Current memory usage: 1220.39 MB\n",
      "Current memory usage: 1220.39 MB\n",
      "Current memory usage: 1220.39 MB\n",
      "Current memory usage: 1220.41 MB\n",
      "Current memory usage: 1222.27 MB\n",
      "Current memory usage: 1222.27 MB\n",
      "Current memory usage: 1222.28 MB\n",
      "Current memory usage: 1224.16 MB\n",
      "Current memory usage: 1224.16 MB\n",
      "Current memory usage: 1224.16 MB\n",
      "Current memory usage: 1224.16 MB\n",
      "Current memory usage: 1224.16 MB\n",
      "Current memory usage: 1224.16 MB\n",
      "Current memory usage: 1224.16 MB\n",
      "Current memory usage: 1224.27 MB\n",
      "Percentage Hit: 0.10559237597239203\n",
      "Max r_prec on a given playlist: 0.625\n"
     ]
    },
    {
     "data": {
      "image/png": "[encoded data removed]",
      "text/plain": [
       "<Figure size 1000x600 with 1 Axes>"
      ]
     },
     "metadata": {},
     "output_type": "display_data"
    },
    {
     "name": "stdout",
     "output_type": "stream",
     "text": [
      "Current memory usage: 1242.88 MB\n"
     ]
    }
   ],
   "source": [
    "# def main():\n",
    "\n",
    "# best pair from validation data -> (100, 0.1, 15, 25)\n",
    "best_cnfg = {\n",
    "    'factors': 150,\n",
    "    'regularization': 1,\n",
    "    'alpha': 40,\n",
    "    'iterations': 40,\n",
    "}\n",
    "\n",
    "# for a fixed size training dataset, experiment with different hyperparameters\n",
    "sparse_data = construct_sparse_training_data(df_song_playlist)\n",
    "del df_song_playlist\n",
    "\n",
    "# keys, values = zip(*hyperparameter_grid.items())\n",
    "# hyperparameter_combinations = [dict(zip(keys, v)) for v in itertools.product(*values)]\n",
    "# print(len(hyperparameter_combinations))\n",
    "\n",
    "results = {}\n",
    "# for params in hyperparameter_combinations:\n",
    "hps = tuple(best_cnfg.values())\n",
    "\n",
    "check_mem()\n",
    "\n",
    "print(f\"Hyper parameter values (factor,reg,alpha,iters): {hps}\")\n",
    "model = train_matrix_factor_model(sparse_data, **best_cnfg)\n",
    "\n",
    "check_mem()\n",
    "\n",
    "new_val_data = transform_val_data(create_validation_data(VAL_START,VAL_END))\n",
    "\n",
    "check_mem()\n",
    "\n",
    "score = evaluate_model_vectorized(model, new_val_data)\n",
    "\n",
    "check_mem()\n",
    "\n",
    "results[hps] = score\n",
    "# return results"
   ]
  },
  {
   "cell_type": "code",
   "execution_count": null,
   "metadata": {},
   "outputs": [],
   "source": []
  }
 ],
 "metadata": {
  "kernelspec": {
   "display_name": "spotify",
   "language": "python",
   "name": "python3"
  },
  "language_info": {
   "codemirror_mode": {
    "name": "ipython",
    "version": 3
   },
   "file_extension": ".py",
   "mimetype": "text/x-python",
   "name": "python",
   "nbconvert_exporter": "python",
   "pygments_lexer": "ipython3",
   "version": "3.13.1"
  }
 },
 "nbformat": 4,
 "nbformat_minor": 2
}
